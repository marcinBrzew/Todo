{
  "nbformat": 4,
  "nbformat_minor": 0,
  "metadata": {
    "colab": {
      "name": "Untitled2.ipynb",
      "provenance": [],
      "authorship_tag": "ABX9TyN+H4jt7lRhxNqWaBAj6mgk",
      "include_colab_link": true
    },
    "kernelspec": {
      "name": "python3",
      "display_name": "Python 3"
    },
    "language_info": {
      "name": "python"
    }
  },
  "cells": [
    {
      "cell_type": "markdown",
      "metadata": {
        "id": "view-in-github",
        "colab_type": "text"
      },
      "source": [
        "<a href=\"https://colab.research.google.com/github/marcinBrzew/Todo/blob/master/SMA/SMA.ipynb\" target=\"_parent\"><img src=\"https://colab.research.google.com/assets/colab-badge.svg\" alt=\"Open In Colab\"/></a>"
      ]
    },
    {
      "cell_type": "code",
      "metadata": {
        "id": "IBzLhytlVfI0"
      },
      "source": [
        "!pip install yfinance \n",
        "import yfinance as yf\n",
        "import matplotlib.pyplot as plt\n",
        "import numpy as np\n",
        "import pandas as pd\n",
        "\n"
      ],
      "execution_count": null,
      "outputs": []
    },
    {
      "cell_type": "code",
      "metadata": {
        "colab": {
          "base_uri": "https://localhost:8080/"
        },
        "id": "A6dZ9xbIF1ip",
        "outputId": "2dbd5168-2f62-4928-af1c-f89a350003af"
      },
      "source": [
        "df=yf.download('BTC-USD',start='2018-01-01')"
      ],
      "execution_count": 4,
      "outputs": [
        {
          "output_type": "stream",
          "name": "stdout",
          "text": [
            "\r[*********************100%***********************]  1 of 1 completed\n"
          ]
        }
      ]
    },
    {
      "cell_type": "code",
      "metadata": {
        "id": "i2YYy64eGKsX"
      },
      "source": [
        "df strategy(df,sma1,sma2):\n",
        "  df=df.copy()\n",
        "  df['ret']=np.log(df.Close.pct_change()+1)\n",
        "  df['SMA1']=df.Close.rolling(sma1)mean()\n",
        "  df['SMA2']=df.Close.rolling(sma2)mean()"
      ],
      "execution_count": null,
      "outputs": []
    }
  ]
}