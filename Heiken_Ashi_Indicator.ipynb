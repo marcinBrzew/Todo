{
  "nbformat": 4,
  "nbformat_minor": 0,
  "metadata": {
    "colab": {
      "provenance": [],
      "authorship_tag": "ABX9TyP1d+84iI8Iq3zYuIVjxjI0",
      "include_colab_link": true
    },
    "kernelspec": {
      "name": "python3",
      "display_name": "Python 3"
    },
    "language_info": {
      "name": "python"
    }
  },
  "cells": [
    {
      "cell_type": "markdown",
      "metadata": {
        "id": "view-in-github",
        "colab_type": "text"
      },
      "source": [
        "<a href=\"https://colab.research.google.com/github/marcinBrzew/Todo/blob/master/Heiken_Ashi_Indicator.ipynb\" target=\"_parent\"><img src=\"https://colab.research.google.com/assets/colab-badge.svg\" alt=\"Open In Colab\"/></a>"
      ]
    },
    {
      "cell_type": "code",
      "source": [
        "!pip install yfinance"
      ],
      "metadata": {
        "id": "0ThyatUfgQhz"
      },
      "execution_count": null,
      "outputs": []
    },
    {
      "cell_type": "code",
      "source": [
        "!pip install pandas_ta"
      ],
      "metadata": {
        "id": "l615CLZAgfsR"
      },
      "execution_count": null,
      "outputs": []
    },
    {
      "cell_type": "code",
      "execution_count": 5,
      "metadata": {
        "id": "zrCTQq8afKyi"
      },
      "outputs": [],
      "source": [
        "import numpy as np\n",
        "import matplotlib.pyplot as plt\n",
        "import pandas as pd \n",
        "import yfinance as yf\n",
        "import pandas_ta as ta\n"
      ]
    },
    {
      "cell_type": "code",
      "source": [
        "data=yf.download(tickers='EURUSD=X',start='2022-03-01',end='2023-03-01')\n",
        "data.drop(['Volume'],axis=1, inplace=True)\n",
        "data.head(10)"
      ],
      "metadata": {
        "id": "vNMWoCXdffOu"
      },
      "execution_count": null,
      "outputs": []
    },
    {
      "cell_type": "code",
      "source": [
        "data['Heiken_Close']=(data.Open+data.Close+data.High+data.Low)/4\n",
        "data['Heiken_Open']=data['Open']\n",
        "for i in range(1, len(data)):\n",
        "  data['Heiken_Open'][i]=(data.Heiken_Open[i-1]+data.Heiken_Close[i-2])/2\n",
        "  \n",
        "data['Heiken_High']=data[['High','Heiken_Open','Heiken_Close']].max(axis=1)\n",
        "data['Heiken_Low']=data[['Low','Heiken_Open','Heiken_Close']].max(axis=1)\n",
        "data.dropna(inplace=True)\n",
        "data.head(10)\n",
        "data[\"EMA20\"]=ta.ema(data.Close,lenght=20)\n",
        "data[\"EMA50\"]=ta.ema(data.Close,lenght=50)\n",
        "data['RSI']=ta.rsi(data.Close,length=12)"
      ],
      "metadata": {
        "id": "eNzYWZ4PhWaL"
      },
      "execution_count": null,
      "outputs": []
    },
    {
      "cell_type": "code",
      "source": [
        "import plotly.graph_objects as go\n",
        "from datetime import datatime\n",
        "dfpl=data[2500: ]\n",
        "fig=go.Figure(data=[go.Candlestick(x=dfpl.index,\n",
        "                                   open=dfpl['Heiken_Open'],\n",
        "                                   high=dfpl['Heiken_High'],\n",
        "                                   low=dfpl['Heiken_Low'],\n",
        "                                   close=dfpl['Heiken_Close']),\n",
        "                                      go.Scatter(x=dfpl.index,)\n",
        "                    ])\n"
      ],
      "metadata": {
        "id": "nZRglmHKlI6e"
      },
      "execution_count": null,
      "outputs": []
    }
  ]
}