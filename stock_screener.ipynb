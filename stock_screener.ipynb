{
  "nbformat": 4,
  "nbformat_minor": 0,
  "metadata": {
    "colab": {
      "provenance": [],
      "authorship_tag": "ABX9TyMfac6H7LxQYMWTegcHtMHL",
      "include_colab_link": true
    },
    "kernelspec": {
      "name": "python3",
      "display_name": "Python 3"
    },
    "language_info": {
      "name": "python"
    }
  },
  "cells": [
    {
      "cell_type": "markdown",
      "metadata": {
        "id": "view-in-github",
        "colab_type": "text"
      },
      "source": [
        "<a href=\"https://colab.research.google.com/github/marcinBrzew/Todo/blob/master/stock_screener.ipynb\" target=\"_parent\"><img src=\"https://colab.research.google.com/assets/colab-badge.svg\" alt=\"Open In Colab\"/></a>"
      ]
    },
    {
      "cell_type": "code",
      "execution_count": null,
      "metadata": {
        "id": "XKgx7_x2hGTt"
      },
      "outputs": [],
      "source": [
        "from pandas_datareader import data as pdr\n",
        "from yahoo_fin import stock_info as si\n",
        "from pandas import ExcelWriter\n",
        "import yfinance as yf\n",
        "import pandas as pd\n",
        "import datetime\n",
        "import time"
      ]
    },
    {
      "cell_type": "code",
      "source": [
        "tickers = si.tickers_sp500()\n",
        "tickers = [item.replace(\".\", \"-\") for item in tickers] # Yahoo Finance uses dashes instead of dots\n",
        "index_name = '^GSPC' # S&P 500\n",
        "start_date = datetime.datetime.now() - datetime.timedelta(days=365)\n",
        "end_date = datetime.date.today()\n",
        "exportList = pd.DataFrame(columns=['Stock', \"RS_Rating\", \"50 Day MA\", \"150 Day Ma\", \"200 Day MA\", \"52 Week Low\", \"52 week High\"])\n",
        "returns_multiples = []"
      ],
      "metadata": {
        "id": "HiWsyabnhITN"
      },
      "execution_count": null,
      "outputs": []
    },
    {
      "cell_type": "code",
      "source": [
        "# Index Returns\n",
        "index_df = pdr.get_data_yahoo(index_name, start_date, end_date)\n",
        "index_df['Percent Change'] = index_df['Adj Close'].pct_change()\n",
        "index_return = (index_df['Percent Change'] + 1).cumprod()[-1]\n",
        "\n",
        "# Find top 30% performing stocks (relative to the S&P 500)\n",
        "for ticker in tickers:\n",
        "    # Download historical data as CSV for each stock (makes the process faster)\n",
        "    df = pdr.get_data_yahoo(ticker, start_date, end_date)\n",
        "    df.to_csv(f'{ticker}.csv')\n",
        "\n",
        "    # Calculating returns relative to the market (returns multiple)\n",
        "    df['Percent Change'] = df['Adj Close'].pct_change()\n",
        "    stock_return = (df['Percent Change'] + 1).cumprod()[-1]\n",
        "    \n",
        "    returns_multiple = round((stock_return / index_return), 2)\n",
        "    returns_multiples.extend([returns_multiple])\n",
        "    \n",
        "    print (f'Ticker: {ticker}; Returns Multiple against S&P 500: {returns_multiple}\\n')\n",
        "    time.sleep(1)"
      ],
      "metadata": {
        "id": "Usoxw8t8hKzz"
      },
      "execution_count": null,
      "outputs": []
    },
    {
      "cell_type": "code",
      "source": [
        "# Creating dataframe of only top 30%\n",
        "rs_df = pd.DataFrame(list(zip(tickers, returns_multiples)), columns=['Ticker', 'Returns_multiple'])\n",
        "rs_df['RS_Rating'] = rs_df.Returns_multiple.rank(pct=True) * 100\n",
        "rs_df = rs_df[rs_df.RS_Rating >= rs_df.RS_Rating.quantile(.70)]"
      ],
      "metadata": {
        "id": "DhYJ5MUVhONP"
      },
      "execution_count": null,
      "outputs": []
    },
    {
      "cell_type": "code",
      "source": [
        "# Checking Minervini conditions of top 30% of stocks in given list\n",
        "rs_stocks = rs_df['Ticker']\n",
        "for stock in rs_stocks:    \n",
        "    try:\n",
        "        df = pd.read_csv(f'{stock}.csv', index_col=0)\n",
        "        sma = [50, 150, 200]\n",
        "        for x in sma:\n",
        "            df[\"SMA_\"+str(x)] = round(df['Adj Close'].rolling(window=x).mean(), 2)\n",
        "        \n",
        "        # Storing required values \n",
        "        currentClose = df[\"Adj Close\"][-1]\n",
        "        moving_average_50 = df[\"SMA_50\"][-1]\n",
        "        moving_average_150 = df[\"SMA_150\"][-1]\n",
        "        moving_average_200 = df[\"SMA_200\"][-1]\n",
        "        low_of_52week = round(min(df[\"Low\"][-260:]), 2)\n",
        "        high_of_52week = round(max(df[\"High\"][-260:]), 2)\n",
        "        RS_Rating = round(rs_df[rs_df['Ticker']==stock].RS_Rating.tolist()[0])\n",
        "        \n",
        "        try:\n",
        "            moving_average_200_20 = df[\"SMA_200\"][-20]\n",
        "        except Exception:\n",
        "            moving_average_200_20 = 0\n",
        "\n",
        "        # Condition 1: Current Price > 150 SMA and > 200 SMA\n",
        "        condition_1 = currentClose > moving_average_150 > moving_average_200\n",
        "        \n",
        "        # Condition 2: 150 SMA and > 200 SMA\n",
        "        condition_2 = moving_average_150 > moving_average_200\n",
        "\n",
        "        # Condition 3: 200 SMA trending up for at least 1 month\n",
        "        condition_3 = moving_average_200 > moving_average_200_20\n",
        "        \n",
        "        # Condition 4: 50 SMA> 150 SMA and 50 SMA> 200 SMA\n",
        "        condition_4 = moving_average_50 > moving_average_150 > moving_average_200\n",
        "           \n",
        "        # Condition 5: Current Price > 50 SMA\n",
        "        condition_5 = currentClose > moving_average_50\n",
        "           \n",
        "        # Condition 6: Current Price is at least 30% above 52 week low\n",
        "        condition_6 = currentClose >= (1.3*low_of_52week)\n",
        "           \n",
        "        # Condition 7: Current Price is within 25% of 52 week high\n",
        "        condition_7 = currentClose >= (.75*high_of_52week)\n",
        "        \n",
        "        # If all conditions above are true, add stock to exportList\n",
        "        if(condition_1 and condition_2 and condition_3 and condition_4 and condition_5 and condition_6 and condition_7):\n",
        "            exportList = exportList.append({'Stock': stock, \"RS_Rating\": RS_Rating ,\"50 Day MA\": moving_average_50, \"150 Day Ma\": moving_average_150, \"200 Day MA\": moving_average_200, \"52 Week Low\": low_of_52week, \"52 week High\": high_of_52week}, ignore_index=True)\n",
        "            print (stock + \" made the Minervini requirements\")\n",
        "    except Exception as e:\n",
        "        print (e)\n",
        "        print(f\"Could not gather data on {stock}\")\n",
        "\n",
        "exportList = exportList.sort_values(by='RS_Rating', ascending=False)\n",
        "print('\\n', exportList)\n",
        "writer = ExcelWriter(\"ScreenOutput.xlsx\")\n",
        "exportList.to_excel(writer, \"Sheet1\")\n",
        "writer.save()"
      ],
      "metadata": {
        "id": "J-Fd1XCOhRBC"
      },
      "execution_count": null,
      "outputs": []
    }
  ]
}