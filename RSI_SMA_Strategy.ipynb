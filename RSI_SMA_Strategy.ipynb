{
  "nbformat": 4,
  "nbformat_minor": 0,
  "metadata": {
    "colab": {
      "name": "RSI_SMA-Strategy.ipynb",
      "provenance": [],
      "authorship_tag": "ABX9TyO68auI5aRY5wk20dH2LyWl",
      "include_colab_link": true
    },
    "kernelspec": {
      "name": "python3",
      "display_name": "Python 3"
    },
    "language_info": {
      "name": "python"
    }
  },
  "cells": [
    {
      "cell_type": "markdown",
      "metadata": {
        "id": "view-in-github",
        "colab_type": "text"
      },
      "source": [
        "<a href=\"https://colab.research.google.com/github/marcinBrzew/Todo/blob/master/RSI_SMA_Strategy.ipynb\" target=\"_parent\"><img src=\"https://colab.research.google.com/assets/colab-badge.svg\" alt=\"Open In Colab\"/></a>"
      ]
    },
    {
      "cell_type": "code",
      "metadata": {
        "id": "EINxSG7Xw4QQ"
      },
      "source": [
        "!pip install yfinance \n",
        "!pip install ta \n",
        "!pip install pandas "
      ],
      "execution_count": null,
      "outputs": []
    },
    {
      "cell_type": "code",
      "metadata": {
        "id": "8Fej8obDwpW9"
      },
      "source": [
        "import pandas as pd \n",
        "import yfinance as yf\n",
        "import ta \n",
        "import numpy as np "
      ],
      "execution_count": 5,
      "outputs": []
    },
    {
      "cell_type": "code",
      "metadata": {
        "colab": {
          "base_uri": "https://localhost:8080/"
        },
        "id": "d4GcTGeAw76_",
        "outputId": "1918d892-6010-4d43-8755-0d6f74f9ae73"
      },
      "source": [
        "df=yf.download('^GSPC',start='2000-01-01')\n",
        "df['SMA200']=ta.trend.sma_indicator(df.Close, window=200)\n",
        "df['RSI']=ta.momentum.rsi(df.Close,window=10)\n",
        "df['Signal']=np.where((df.Close>df.SMA200)&(df.RSI<30),True,False)\n",
        "Buying_dates=[]\n",
        "Selling_dates=[]\n",
        "\n",
        "for i in range(len(df)):\n",
        "  if df.Signal.iloc[i]:  \n",
        "    Buying_dates.append(df.iloc[i+1].name)\n",
        "    for j in range(1,11):\n",
        "      if df['RSI'].iloc[i+j]>40:\n",
        "         Selling_dates.append(df.iloc[i+1].name)\n",
        "         break\n",
        "        #  Sprzedarz po 10 dniach \n",
        "      elif j ==10:\n",
        "        Selling_dates.append(df.iloc[i+1].name)\n",
        "    "
      ],
      "execution_count": 17,
      "outputs": [
        {
          "output_type": "stream",
          "name": "stdout",
          "text": [
            "\r[*********************100%***********************]  1 of 1 completed\n"
          ]
        }
      ]
    },
    {
      "cell_type": "code",
      "metadata": {
        "colab": {
          "base_uri": "https://localhost:8080/",
          "height": 419
        },
        "id": "uZ6-cNMu1Eu6",
        "outputId": "f62865f3-6e11-4e3d-d066-61ea831be761"
      },
      "source": [
        "frame=pd.DataFrame({'Buying_dates':Buying_dates,'Selling_dates':Selling_dates})\n",
        "frame"
      ],
      "execution_count": 19,
      "outputs": [
        {
          "output_type": "execute_result",
          "data": {
            "text/html": [
              "<div>\n",
              "<style scoped>\n",
              "    .dataframe tbody tr th:only-of-type {\n",
              "        vertical-align: middle;\n",
              "    }\n",
              "\n",
              "    .dataframe tbody tr th {\n",
              "        vertical-align: top;\n",
              "    }\n",
              "\n",
              "    .dataframe thead th {\n",
              "        text-align: right;\n",
              "    }\n",
              "</style>\n",
              "<table border=\"1\" class=\"dataframe\">\n",
              "  <thead>\n",
              "    <tr style=\"text-align: right;\">\n",
              "      <th></th>\n",
              "      <th>Buying_dates</th>\n",
              "      <th>Selling_dates</th>\n",
              "    </tr>\n",
              "  </thead>\n",
              "  <tbody>\n",
              "    <tr>\n",
              "      <th>0</th>\n",
              "      <td>2004-03-12</td>\n",
              "      <td>2004-03-12</td>\n",
              "    </tr>\n",
              "    <tr>\n",
              "      <th>1</th>\n",
              "      <td>2004-05-11</td>\n",
              "      <td>2004-05-11</td>\n",
              "    </tr>\n",
              "    <tr>\n",
              "      <th>2</th>\n",
              "      <td>2005-03-23</td>\n",
              "      <td>2005-03-23</td>\n",
              "    </tr>\n",
              "    <tr>\n",
              "      <th>3</th>\n",
              "      <td>2005-03-24</td>\n",
              "      <td>2005-03-24</td>\n",
              "    </tr>\n",
              "    <tr>\n",
              "      <th>4</th>\n",
              "      <td>2005-03-28</td>\n",
              "      <td>2005-03-28</td>\n",
              "    </tr>\n",
              "    <tr>\n",
              "      <th>...</th>\n",
              "      <td>...</td>\n",
              "      <td>...</td>\n",
              "    </tr>\n",
              "    <tr>\n",
              "      <th>57</th>\n",
              "      <td>2020-02-26</td>\n",
              "      <td>2020-02-26</td>\n",
              "    </tr>\n",
              "    <tr>\n",
              "      <th>58</th>\n",
              "      <td>2020-02-27</td>\n",
              "      <td>2020-02-27</td>\n",
              "    </tr>\n",
              "    <tr>\n",
              "      <th>59</th>\n",
              "      <td>2020-10-29</td>\n",
              "      <td>2020-10-29</td>\n",
              "    </tr>\n",
              "    <tr>\n",
              "      <th>60</th>\n",
              "      <td>2021-09-21</td>\n",
              "      <td>2021-09-21</td>\n",
              "    </tr>\n",
              "    <tr>\n",
              "      <th>61</th>\n",
              "      <td>2021-09-22</td>\n",
              "      <td>2021-09-22</td>\n",
              "    </tr>\n",
              "  </tbody>\n",
              "</table>\n",
              "<p>62 rows × 2 columns</p>\n",
              "</div>"
            ],
            "text/plain": [
              "   Buying_dates Selling_dates\n",
              "0    2004-03-12    2004-03-12\n",
              "1    2004-05-11    2004-05-11\n",
              "2    2005-03-23    2005-03-23\n",
              "3    2005-03-24    2005-03-24\n",
              "4    2005-03-28    2005-03-28\n",
              "..          ...           ...\n",
              "57   2020-02-26    2020-02-26\n",
              "58   2020-02-27    2020-02-27\n",
              "59   2020-10-29    2020-10-29\n",
              "60   2021-09-21    2021-09-21\n",
              "61   2021-09-22    2021-09-22\n",
              "\n",
              "[62 rows x 2 columns]"
            ]
          },
          "metadata": {},
          "execution_count": 19
        }
      ]
    }
  ]
}